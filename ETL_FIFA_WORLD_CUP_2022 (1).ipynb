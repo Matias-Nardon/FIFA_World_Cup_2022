{
  "metadata": {
    "kernelspec": {
      "name": "python",
      "display_name": "Python (Pyodide)",
      "language": "python"
    },
    "language_info": {
      "codemirror_mode": {
        "name": "python",
        "version": 3
      },
      "file_extension": ".py",
      "mimetype": "text/x-python",
      "name": "python",
      "nbconvert_exporter": "python",
      "pygments_lexer": "ipython3",
      "version": "3.8"
    }
  },
  "nbformat_minor": 4,
  "nbformat": 4,
  "cells": [
    {
      "cell_type": "markdown",
      "source": "![Imagen](https://www.jumpdesign.co.uk/wp-content/uploads/2021/02/BANNER-LOGO-1024x288.jpg)",
      "metadata": {}
    },
    {
      "cell_type": "markdown",
      "source": "# **ETL - FIFA World Cup 2022**\\n\",\n### El objetivo de este análisis en Jupyter Notebook es generar un CSV que pueda alimentar un cuadro de mando de Power BI con todos los datos correspondientes a cada partido de la Copa Mundial de la FIFA 2022.\nPara lograr esto, utilizaremos dos conjuntos de datos diferentes:\n1) El conjunto de datos principal será el siguiente conjunto de datos de Kaggle: [Conjunto de datos principal](https://www.kaggle.com/datasets/die9origephit/fifa-world-cup-2022-complete-dataset)\n2) El conjunto de datos secundario será el siguiente conjunto de datos de Kaggle: [Conjunto de datos secundario](https://www.kaggle.com/datasets/swaptr/fifa-world-cup-2022-match-data)\n\nTomaremos algunas características del dataset secundario para tener un dataset más completo y haremos las transformaciones necesarias para tener el dataset con un formato adecuado para alimentar el bashboard de Power BI.\"",
      "metadata": {}
    },
    {
      "cell_type": "code",
      "source": "import pandas as pd\n#pd.set_option(\"display.max_columns\", None)\n#pd.set_option(\"display.max_rows\", None)",
      "metadata": {
        "trusted": true
      },
      "outputs": [],
      "execution_count": 16
    },
    {
      "cell_type": "code",
      "source": "#Load CSVs\ndf1 = pd.read_csv(\"../FIFA_World_Cup_2022/FIFA_dataset/Fifa_world_cup_matches_v1.csv\")\ndf2 = pd.read_csv(\"../FIFA_World_Cup_2022/FBref_matchs/data.csv\")",
      "metadata": {
        "trusted": true
      },
      "outputs": [],
      "execution_count": 5
    },
    {
      "cell_type": "code",
      "source": "#Normalización de algunas características en el marco de datos\ndf1[\"team1\"] = df1[\"team1\"].apply(lambda x: x.title())\ndf1[\"team2\"] = df1[\"team2\"].apply(lambda x: x.title())\ndf1.loc[df1[\"category\"].str.contains(\"Group\"), \"category\"] = \"Group stage\"\ndf1.loc[df1[\"category\"] == \"Play-off for third place\", \"category\"] = \"3rd place\"",
      "metadata": {
        "trusted": true
      },
      "outputs": [],
      "execution_count": 6
    },
    {
      "cell_type": "code",
      "source": "#Agregar información adicional al marco de datos principal desde el marco de datos secundario\nadditional_info = [\"home_xg\", \"away_xg\", \"attendance\", \"venue\", \"referee\", \"home_formation\", \"away_formation\", \"home_touches\", \"away_touches\", \n                \"home_tackles\", \"away_tackles\", \"home_interceptions\", \"away_interceptions\", \"home_aerials_won\", \"away_aerials_won\", \n                \"home_clearances\", \"away_clearances\", \"home_gks\", \"away_gks\", \"home_throw_ins\", \"away_throw_ins\", \"home_long_balls\", \"away_long_balls\"]\ndf1[additional_info] = df2[additional_info]\ndf1[[\"rival team1\", \"rival team2\"]] = df1[[\"team2\", \"team1\"]]",
      "metadata": {
        "trusted": true
      },
      "outputs": [],
      "execution_count": 7
    },
    {
      "cell_type": "code",
      "source": "#Dividir los datos del equipo 1 y del equipo 2\n#Crear marco de datos del equipo 1\nteam1_columns = [col for col in df1.columns if \"team2\" not in col and \"away\" not in col]\nteam1 = df1[team1_columns]",
      "metadata": {
        "trusted": true
      },
      "outputs": [],
      "execution_count": 8
    },
    {
      "cell_type": "code",
      "source": "#Crear marco de datos del equipo 2\nteam2_columns = [col for col in df1.columns if \"team1\" not in col and \"home\" not in col]\nteam2 = df1[team2_columns]\ncolumns_team1 = team1.columns\ncolumns_team2 = team2.columns\nmap_columns = dict(zip(columns_team2, columns_team1))\nteam2 = team2.rename(columns=map_columns)",
      "metadata": {
        "trusted": true
      },
      "outputs": [],
      "execution_count": 9
    },
    {
      "cell_type": "code",
      "source": "#Concatenar ambos marcos de datos\nFWC2022 = pd.concat([team1, team2])",
      "metadata": {
        "trusted": true
      },
      "outputs": [],
      "execution_count": 10
    },
    {
      "cell_type": "code",
      "source": "#Añadir ID de equipo al marco de datos\nall_teams = pd.read_csv(\"Teams.csv\")\nmapping = dict(zip(all_teams[\"team\"], all_teams[\"team_id\"]))\nFWC2022[\"team_id\"] = FWC2022[\"team1\"].map(mapping)",
      "metadata": {
        "trusted": true
      },
      "outputs": [],
      "execution_count": 11
    },
    {
      "cell_type": "code",
      "source": "#Restablecer y renombrar índice\nFWC2022 = FWC2022.reset_index(drop=True)\nFWC2022 = FWC2022.rename_axis(\"match_id\", axis=0)",
      "metadata": {
        "trusted": true
      },
      "outputs": [],
      "execution_count": 12
    },
    {
      "cell_type": "code",
      "source": "#Nombres de columnas reemplazados manualmente\nFWC2022.rename(columns={'team1': \"team\", 'number of goals team1': \"goals\", 'category': \"stage\", 'venue': \"stadium\"}, inplace=True)\n#Nombres de columnas reemplazados programáticamente\nFWC2022.rename(columns=lambda x: x.replace(\" team1\", \"\").replace(\"home_\", \"\"), inplace=True)",
      "metadata": {
        "trusted": true
      },
      "outputs": [],
      "execution_count": 13
    },
    {
      "cell_type": "code",
      "source": "#Añadir los datos correspondientes a los rivales\ntop_col1 = FWC2022.iloc[:int(len(FWC2022)/2), 7:8]\ntop_col2 = FWC2022.iloc[:int(len(FWC2022)/2), 9:47]\ntop_col3 = FWC2022.iloc[:int(len(FWC2022)/2), 50:59]\ntop = pd.concat([top_col1, top_col2, top_col3], axis=1)\ntop.rename(columns=lambda x: x + \"_against\", inplace=True)\n\nbottom_col1 = FWC2022.iloc[int(len(FWC2022)/2):, 7:8]\nbottom_col2 = FWC2022.iloc[int(len(FWC2022)/2):, 9:47]\nbottom_col3 = FWC2022.iloc[int(len(FWC2022)/2):, 50:59]\nbottom = pd.concat([bottom_col1, bottom_col2, bottom_col3], axis=1)\nbottom.rename(columns=lambda x: x + \"_against\", inplace=True)\n\nagainst = pd.concat([bottom, top])\nagainst = against.reset_index(drop=True)\nFWC2022 = pd.concat([FWC2022, against], axis=1)",
      "metadata": {
        "trusted": true
      },
      "outputs": [],
      "execution_count": 14
    },
    {
      "cell_type": "code",
      "source": "#Guardar el marco de datos\nFWC2022.to_csv(\"WorldCup2022.csv\")",
      "metadata": {
        "trusted": true
      },
      "outputs": [],
      "execution_count": 15
    },
    {
      "cell_type": "code",
      "source": "",
      "metadata": {
        "trusted": true
      },
      "outputs": [],
      "execution_count": null
    }
  ]
}